{
 "cells": [
  {
   "cell_type": "markdown",
   "metadata": {},
   "source": [
    "# Introduction to Basic Python Ideas\n",
    "## Main ideas taken from Python for Data Analysis by Wes Mckinney - READ THE RELEVANT CHAPTERS"
   ]
  },
  {
   "cell_type": "markdown",
   "metadata": {},
   "source": [
    "## Variable Assignment"
   ]
  },
  {
   "cell_type": "code",
   "execution_count": null,
   "metadata": {},
   "outputs": [],
   "source": [
    "a = 5\n",
    "b = 'cookie'\n",
    "c = 10"
   ]
  },
  {
   "cell_type": "code",
   "execution_count": null,
   "metadata": {},
   "outputs": [],
   "source": [
    "d = a\n",
    "print(d)"
   ]
  },
  {
   "cell_type": "code",
   "execution_count": null,
   "metadata": {},
   "outputs": [],
   "source": [
    "a == c\n",
    "#a is c"
   ]
  },
  {
   "cell_type": "markdown",
   "metadata": {},
   "source": [
    "## Everything is an Object in Python"
   ]
  },
  {
   "cell_type": "code",
   "execution_count": null,
   "metadata": {},
   "outputs": [],
   "source": [
    "a = 5 # Integer\n",
    "b = 5.4 # Float\n",
    "c = 'apple' #String\n",
    "d = True # Boolean\n",
    "e = 0 # Boolean\n",
    "f = None # None"
   ]
  },
  {
   "cell_type": "code",
   "execution_count": null,
   "metadata": {},
   "outputs": [],
   "source": [
    "# Checking types of objects\n",
    "type(a)"
   ]
  },
  {
   "cell_type": "code",
   "execution_count": null,
   "metadata": {},
   "outputs": [],
   "source": [
    "isinstance(a, int)"
   ]
  },
  {
   "cell_type": "code",
   "execution_count": null,
   "metadata": {},
   "outputs": [],
   "source": [
    "# Type casting: We can cast one type into another (within reason)\n",
    "float(a)"
   ]
  },
  {
   "cell_type": "code",
   "execution_count": null,
   "metadata": {},
   "outputs": [],
   "source": [
    "# Type casting is not done in place, if you check a again\n",
    "a\n",
    "# But if you assign it to another variable, then we have the new variable\n",
    "j = float(a)\n",
    "j"
   ]
  },
  {
   "cell_type": "code",
   "execution_count": null,
   "metadata": {},
   "outputs": [],
   "source": [
    "int(b)"
   ]
  },
  {
   "cell_type": "code",
   "execution_count": null,
   "metadata": {},
   "outputs": [],
   "source": [
    "float(c)"
   ]
  },
  {
   "cell_type": "code",
   "execution_count": null,
   "metadata": {},
   "outputs": [],
   "source": [
    "str(a)"
   ]
  },
  {
   "cell_type": "markdown",
   "metadata": {},
   "source": [
    "# Attributes and Methods\n",
    "\n",
    "* Each object has attributes that are unique to the object. E.g. Characters can be capitalised whereas number cannot be. Numbers can be divided by each other but characters cannot.\n",
    "\n",
    "\n",
    "* Each object also has a set of allowable functions, called methods, which can be used on the object. Again, we can raise a number to a power but not a letter so the function of raising to the power is a method unique to a integer or float object."
   ]
  },
  {
   "cell_type": "code",
   "execution_count": null,
   "metadata": {},
   "outputs": [],
   "source": [
    "string = 'hi my name is slim shady'"
   ]
  },
  {
   "cell_type": "code",
   "execution_count": null,
   "metadata": {},
   "outputs": [],
   "source": [
    "print(string.upper())"
   ]
  },
  {
   "cell_type": "code",
   "execution_count": null,
   "metadata": {},
   "outputs": [],
   "source": [
    "capital_string = string.upper()"
   ]
  },
  {
   "cell_type": "code",
   "execution_count": null,
   "metadata": {},
   "outputs": [],
   "source": [
    "capital_string.endswith('SHaDY')"
   ]
  },
  {
   "cell_type": "code",
   "execution_count": null,
   "metadata": {},
   "outputs": [],
   "source": [
    "# Do we get a different set of methods if we have a different object\n",
    "number = 7.5"
   ]
  },
  {
   "cell_type": "code",
   "execution_count": null,
   "metadata": {},
   "outputs": [],
   "source": [
    "number.as_integer_ratio()"
   ]
  },
  {
   "cell_type": "code",
   "execution_count": null,
   "metadata": {},
   "outputs": [],
   "source": [
    "number.is_integer()"
   ]
  },
  {
   "cell_type": "markdown",
   "metadata": {},
   "source": [
    "# Binary Operators"
   ]
  },
  {
   "cell_type": "code",
   "execution_count": null,
   "metadata": {},
   "outputs": [],
   "source": [
    "# We can use operators to find out relationships between objects. These are usually logical operators.\n",
    "a = 3\n",
    "b = 4"
   ]
  },
  {
   "cell_type": "code",
   "execution_count": null,
   "metadata": {},
   "outputs": [],
   "source": [
    "# AND\n",
    "((a > 1) & (b < 10))"
   ]
  },
  {
   "cell_type": "code",
   "execution_count": null,
   "metadata": {},
   "outputs": [],
   "source": [
    "# OR\n",
    "((a > 1) | (b < 2))"
   ]
  },
  {
   "cell_type": "code",
   "execution_count": null,
   "metadata": {},
   "outputs": [],
   "source": [
    "# EXCLUSIVE OR\n",
    "((a > 1) ^ (b < 2))"
   ]
  },
  {
   "cell_type": "code",
   "execution_count": null,
   "metadata": {},
   "outputs": [],
   "source": [
    "# EQUIVALENCE\n",
    "a == b"
   ]
  },
  {
   "cell_type": "code",
   "execution_count": null,
   "metadata": {},
   "outputs": [],
   "source": [
    "# NOT EQUIVALENCE\n",
    "a != b"
   ]
  },
  {
   "cell_type": "code",
   "execution_count": null,
   "metadata": {},
   "outputs": [],
   "source": [
    "# MATHEMATICAL OPERATORS\n",
    "print(3**2)\n",
    "print(5 > 6)\n",
    "print(5 <= 5)\n"
   ]
  },
  {
   "cell_type": "markdown",
   "metadata": {},
   "source": [
    "# Strings"
   ]
  },
  {
   "cell_type": "code",
   "execution_count": null,
   "metadata": {},
   "outputs": [],
   "source": [
    "string1 = \"This is one way to make a string\""
   ]
  },
  {
   "cell_type": "code",
   "execution_count": null,
   "metadata": {},
   "outputs": [],
   "source": [
    "string2 = 'This is another way to make a string'"
   ]
  },
  {
   "cell_type": "code",
   "execution_count": null,
   "metadata": {},
   "outputs": [],
   "source": [
    "string3 = \"\"\"\n",
    "If you have an essay that the world just needs to hear, then you can use\n",
    "triple double commas and stick what you want in between.\n",
    "\"\"\""
   ]
  },
  {
   "cell_type": "code",
   "execution_count": null,
   "metadata": {},
   "outputs": [],
   "source": [
    "# Notice the escape quotes\n",
    "string3"
   ]
  },
  {
   "cell_type": "code",
   "execution_count": null,
   "metadata": {},
   "outputs": [],
   "source": [
    "# They disappear when printing\n",
    "print(string3)"
   ]
  },
  {
   "cell_type": "code",
   "execution_count": null,
   "metadata": {},
   "outputs": [],
   "source": [
    "intro = \"My name is Junaid\""
   ]
  },
  {
   "cell_type": "code",
   "execution_count": null,
   "metadata": {},
   "outputs": [],
   "source": [
    "# There are a whole host of String methods we can use\n",
    "newintro = intro.replace(\"Junaid\", \"Jainaba\")\n",
    "newintro"
   ]
  },
  {
   "cell_type": "code",
   "execution_count": null,
   "metadata": {},
   "outputs": [],
   "source": [
    "# We can concatenate strings together\n",
    "'My best friend is ' + 'Junaid'"
   ]
  },
  {
   "cell_type": "code",
   "execution_count": null,
   "metadata": {},
   "outputs": [],
   "source": [
    "# We can do this via variable assignment too\n",
    "first_text = \"My best friend is\"\n",
    "name = \"Junaid\"\n",
    "first_text + name"
   ]
  },
  {
   "cell_type": "code",
   "execution_count": null,
   "metadata": {},
   "outputs": [],
   "source": [
    "# A neat trick is string interpolation, using curly braces {}\n",
    "string_to_interpolate = 'my name is {}'\n",
    "string_to_interpolate"
   ]
  },
  {
   "cell_type": "code",
   "execution_count": null,
   "metadata": {},
   "outputs": [],
   "source": [
    "string_to_interpolate.format('Junaid')"
   ]
  },
  {
   "cell_type": "code",
   "execution_count": null,
   "metadata": {},
   "outputs": [],
   "source": [
    "string_to_interpolate_more = 'my name is {} and I live in the {}'\n",
    "string_to_interpolate_more.format('Junaid', 'United Kingdom')"
   ]
  },
  {
   "cell_type": "code",
   "execution_count": null,
   "metadata": {},
   "outputs": [],
   "source": [
    "string_to_interpolate_more = 'my name is {} and I live in the {}'\n",
    "name = ''\n",
    "location = ''\n",
    "string_to_interpolate_more.format(name, location)"
   ]
  },
  {
   "cell_type": "markdown",
   "metadata": {},
   "source": [
    "# Dates and Times\n",
    "\n",
    "* Datetimes are considered in a special way with Python. Dates are not a native base structure but with the datetime library, there is an imported Python structure - called a datetime object.\n",
    "\n",
    "* It's worth going over the full details in the book - from page 44"
   ]
  },
  {
   "cell_type": "code",
   "execution_count": null,
   "metadata": {},
   "outputs": [],
   "source": [
    "from datetime import datetime, date, time"
   ]
  },
  {
   "cell_type": "code",
   "execution_count": null,
   "metadata": {},
   "outputs": [],
   "source": [
    "# Today's date\n",
    "today = datetime.today()\n",
    "today"
   ]
  },
  {
   "cell_type": "code",
   "execution_count": null,
   "metadata": {},
   "outputs": [],
   "source": [
    "# We can pull things out of the datetime object\n",
    "[today.day\n",
    ",today.minute\n",
    ",today.microsecond]"
   ]
  },
  {
   "cell_type": "code",
   "execution_count": null,
   "metadata": {},
   "outputs": [],
   "source": [
    "# We can format datetime objects to they look like dates that we recognise\n",
    "today.strftime(\"%d/%m/%Y %H:%M:%S\")"
   ]
  },
  {
   "cell_type": "code",
   "execution_count": null,
   "metadata": {},
   "outputs": [],
   "source": [
    "# We can convert properly formatted strings to datetimes\n",
    "datetime.strptime('19930728', '%Y%m%d')"
   ]
  },
  {
   "cell_type": "markdown",
   "metadata": {},
   "source": [
    "# Control Flow\n",
    "\n",
    "* if, elif and else. The if statement is one of the most well-known control flow statement types. It checks a condition that, if True, evaluates the code in the block that follows."
   ]
  },
  {
   "cell_type": "code",
   "execution_count": null,
   "metadata": {},
   "outputs": [],
   "source": [
    "if x < 0:\n",
    "    print(\"Houston we have a negative number\")"
   ]
  },
  {
   "cell_type": "code",
   "execution_count": null,
   "metadata": {},
   "outputs": [],
   "source": [
    "if x < 0:\n",
    "    print(\"Houston we have a negative number\")\n",
    "else:\n",
    "    print(\"Houston we have a nonnegative number\")"
   ]
  },
  {
   "cell_type": "code",
   "execution_count": null,
   "metadata": {},
   "outputs": [],
   "source": [
    "if x < 0: \n",
    "    print('negative!')\n",
    "elif x==0:\n",
    "    # TODO: put something smart here \n",
    "    pass\n",
    "else: \n",
    "    print('positive!')"
   ]
  },
  {
   "cell_type": "code",
   "execution_count": null,
   "metadata": {},
   "outputs": [],
   "source": [
    "# An if statement can be optionally followed by one or more elif blocks and a catch- \n",
    "# all else block if all of the conditions are False:\n",
    "if x < 0:\n",
    "    print('It\\'s negative')\n",
    "elif x == 0:\n",
    "    print('Equal to zero')\n",
    "elif 0<x<5:\n",
    "    print('Positive but smaller than 5')\n",
    "else:\n",
    "    print('Positive and larger than or equal to 5')"
   ]
  },
  {
   "cell_type": "markdown",
   "metadata": {},
   "source": [
    "# Loops\n",
    "* There are 2 types of loops: for loops and while loops"
   ]
  },
  {
   "cell_type": "code",
   "execution_count": null,
   "metadata": {},
   "outputs": [],
   "source": [
    "# A list is the most basic data structure in Python. \n",
    "# We hold things of different types in it\n",
    "list1 = [1, 2, 3, 11, -9]\n",
    "list2 = ['apple', 'orange', 'banana']\n",
    "list3 = [1, 'Junaid', 27, 'Jainaba', ['Junaid', 28, 7, 1993]]"
   ]
  },
  {
   "cell_type": "code",
   "execution_count": null,
   "metadata": {},
   "outputs": [],
   "source": [
    "# We can see how large a list is by using the len() function\n",
    "[len(list1), len(list2), len(list3)]"
   ]
  },
  {
   "cell_type": "code",
   "execution_count": null,
   "metadata": {},
   "outputs": [],
   "source": [
    "# We can access elements of a list by using indexing and slicing\n",
    "# Indexing: Python starts with 0!!\n",
    "list2[0]\n",
    "\n",
    "# Slicing: Return all elements in a list from element 1 to before element 4\n",
    "list3[1:4]\n",
    "list3[4][0:3] # You can recursively index/ slice"
   ]
  },
  {
   "cell_type": "code",
   "execution_count": null,
   "metadata": {},
   "outputs": [],
   "source": [
    "# We can add things to a list using the append method. Things are added at the end.\n",
    "little_list = [18, 5000000, 0.987]\n",
    "little_list.append(0.5) # This is added in place\n",
    "\n",
    "little_list"
   ]
  },
  {
   "cell_type": "code",
   "execution_count": null,
   "metadata": {},
   "outputs": [],
   "source": [
    "# We can take things out of a list using the pop method\n",
    "little_list.pop(2) # Here we specify an index vs a value. Remove something from the 2nd position\n",
    "little_list"
   ]
  },
  {
   "cell_type": "code",
   "execution_count": null,
   "metadata": {},
   "outputs": [],
   "source": [
    "# For loops: These loops are for when we want to perform an operation over a series of elements in an object\n",
    "# Say we wanted to take the list [1, 2, 3, 11, -9] and multiply every element in it by 2, we also want all numbers to be positive. \n",
    "# To do this we need an output empty list in which we will save our result and write the code for our for loop\n",
    "output_list = [] # Here is an empty list where we want to put our resulting elements in\n",
    "\n",
    "for element in range(0, len(list1)): # For every element in the range between 0 and the length of our input list\n",
    "    x = abs(2 * list1[element]) # What should the value be in the output list at this stage?\n",
    "    output_list.append(x) # Append it to the output list\n",
    "    \n",
    "output_list"
   ]
  },
  {
   "cell_type": "code",
   "execution_count": null,
   "metadata": {},
   "outputs": [],
   "source": [
    "# While loops: This runs a piece of code iteratively until a condition is met\n",
    "x = 256\n",
    "total = 0\n",
    "\n",
    "while x > 0:\n",
    "    if total > 500:\n",
    "        break # Break the if statement\n",
    "    total += x\n",
    "    x = x // 2"
   ]
  },
  {
   "cell_type": "code",
   "execution_count": null,
   "metadata": {},
   "outputs": [],
   "source": [
    "# 256 + (256 // 2) + (128 // 2) + (64 // 2) + (32 // 2) + (16 // 2)"
   ]
  },
  {
   "cell_type": "markdown",
   "metadata": {},
   "source": [
    "# Importing Modules\n",
    "\n",
    "* In Python, we have base objects and functions which come with the initial install of the language. However there are some functions that we can download which are additional to what we call base Python. \n",
    "\n",
    "* We do this by installing and importing modules/ libraries/ packages. Then we can extend the reach of Python.\n",
    "\n",
    "* For full information, please see: https://jakevdp.github.io/blog/2017/12/05/installing-python-packages-from-jupyter/"
   ]
  },
  {
   "cell_type": "code",
   "execution_count": null,
   "metadata": {},
   "outputs": [],
   "source": [
    "# Install a module - Using pip\n",
    "# Install a pip package in the current Jupyter kernel\n",
    "import sys\n",
    "!{sys.executable} -m pip install numpy"
   ]
  },
  {
   "cell_type": "code",
   "execution_count": 1,
   "metadata": {},
   "outputs": [
    {
     "name": "stdout",
     "output_type": "stream",
     "text": [
      "Collecting package metadata (current_repodata.json): done\n",
      "Solving environment: done\n",
      "\n",
      "## Package Plan ##\n",
      "\n",
      "  environment location: /Users/junaidbutt/opt/anaconda3\n",
      "\n",
      "  added / updated specs:\n",
      "    - numpy\n",
      "\n",
      "\n",
      "The following packages will be downloaded:\n",
      "\n",
      "    package                    |            build\n",
      "    ---------------------------|-----------------\n",
      "    conda-4.9.2                |   py38hecd8cb5_0         2.9 MB\n",
      "    ------------------------------------------------------------\n",
      "                                           Total:         2.9 MB\n",
      "\n",
      "The following packages will be UPDATED:\n",
      "\n",
      "  conda                                        4.8.3-py38_0 --> 4.9.2-py38hecd8cb5_0\n",
      "\n",
      "\n",
      "\n",
      "Downloading and Extracting Packages\n",
      "conda-4.9.2          | 2.9 MB    | ##################################### | 100% \n",
      "Preparing transaction: done\n",
      "Verifying transaction: done\n",
      "Executing transaction: done\n"
     ]
    }
   ],
   "source": [
    "# Installing a module - Using Conda\n",
    "# Install a conda package in the current Jupyter kernel\n",
    "import sys\n",
    "!conda install --yes --prefix {sys.prefix} numpy"
   ]
  },
  {
   "cell_type": "code",
   "execution_count": 2,
   "metadata": {},
   "outputs": [],
   "source": [
    "# Once a library is installed, it doesn't mean we can use it straight away. We must be imported.\n",
    "import numpy as np"
   ]
  },
  {
   "cell_type": "code",
   "execution_count": null,
   "metadata": {},
   "outputs": [],
   "source": [
    "# Sometimes you will have massive modules where you only want to import some functions\n",
    "from some_module import f as foo, g as bar"
   ]
  },
  {
   "cell_type": "code",
   "execution_count": 3,
   "metadata": {},
   "outputs": [
    {
     "data": {
      "text/plain": [
       "10.0"
      ]
     },
     "execution_count": 3,
     "metadata": {},
     "output_type": "execute_result"
    }
   ],
   "source": [
    "# Once we have a module imported, we can use the functions contained within.\n",
    "# Since we installed numpy with a prefix np, we can use that as a reference\n",
    "np.ceil(9.86) # Ceiling function always rounds up to the nearest integer"
   ]
  },
  {
   "cell_type": "markdown",
   "metadata": {},
   "source": [
    "# Built-in Data Structures\n",
    "\n",
    "* In Python we have multiple native data structures.\n",
    "* These are VERY important to know so check out Chapter 3 in the book"
   ]
  },
  {
   "cell_type": "code",
   "execution_count": null,
   "metadata": {},
   "outputs": [],
   "source": [
    "# We have already seen lists\n",
    "list1 = ['tinky winky', 'dipsy', 'lala', 'po', [1, 2, 3]]"
   ]
  },
  {
   "cell_type": "markdown",
   "metadata": {},
   "source": [
    "## Tuple"
   ]
  },
  {
   "cell_type": "code",
   "execution_count": null,
   "metadata": {},
   "outputs": [],
   "source": [
    "# Tuple: A tuple is a fixed-length, immutable sequence of Python objects\n",
    "# They are created with a comma-separated sequence of values\n",
    "tuple_1 = (9, 11, 4.5)"
   ]
  },
  {
   "cell_type": "code",
   "execution_count": null,
   "metadata": {},
   "outputs": [],
   "source": [
    "# We can nest tuples too\n",
    "nested_tup = ((4,5,6), (7,8))"
   ]
  },
  {
   "cell_type": "code",
   "execution_count": null,
   "metadata": {},
   "outputs": [],
   "source": [
    "# We can convert any sequence to iterator into a tuple using the function tuple()\n",
    "list_converted_tuple = tuple([4, 0, 2])\n",
    "string_converted_tuple = tuple('string')"
   ]
  },
  {
   "cell_type": "code",
   "execution_count": null,
   "metadata": {},
   "outputs": [],
   "source": [
    "# Accessing tuples: We can access tuples with square brackets and are 0-indexed\n",
    "string_converted_tuple[1]"
   ]
  },
  {
   "cell_type": "code",
   "execution_count": null,
   "metadata": {},
   "outputs": [],
   "source": [
    "# Tuples are immutable vs lists\n",
    "lst = [1, 3, 19]\n",
    "tup = (1, 3, 19)\n",
    "\n",
    "# Say we wanted to replace the 3 with a 4\n",
    "# We can do this with a list\n",
    "lst[1] = 4"
   ]
  },
  {
   "cell_type": "code",
   "execution_count": null,
   "metadata": {},
   "outputs": [],
   "source": [
    "# Say we wanted to replace the 3 with a 4\n",
    "# We can't do this with a tuple\n",
    "tup[1] = 4"
   ]
  },
  {
   "cell_type": "code",
   "execution_count": null,
   "metadata": {},
   "outputs": [],
   "source": [
    "# We can concatenate tuples just like lists\n",
    "tup_a = (1, 2, 'foo')\n",
    "tup_b = (3, 4, 'bar')\n",
    "tup_a + tup_b"
   ]
  },
  {
   "cell_type": "code",
   "execution_count": null,
   "metadata": {},
   "outputs": [],
   "source": [
    "# We can multiple a tuple by a number, like a just a list, and it replicates the elements\n",
    "tup_j = ('Junaid', 'Butt') \n",
    "tup_j * 5"
   ]
  },
  {
   "cell_type": "markdown",
   "metadata": {},
   "source": [
    "# Dictionary\n",
    "\n",
    "* A dictionary or dict in Python is the most important built-in Python data structure. It's also called a hash map or associative array.\n",
    "* It contains a list of pairs called keys and values"
   ]
  },
  {
   "cell_type": "code",
   "execution_count": null,
   "metadata": {},
   "outputs": [],
   "source": [
    "# We create dictionaries using curly braces\n",
    "dict1 = {'Junaid': ['IBM', 400], 'Amin': ['Unknown', None]}\n",
    "dict1"
   ]
  },
  {
   "cell_type": "code",
   "execution_count": null,
   "metadata": {},
   "outputs": [],
   "source": [
    "# We can access, insert or set elements using square brackets but we specify the key by name here\n",
    "dict1['Junaid']"
   ]
  },
  {
   "cell_type": "code",
   "execution_count": null,
   "metadata": {},
   "outputs": [],
   "source": [
    "# Replace an existing element\n",
    "dict1['Junaid'][1] = 365\n",
    "dict1"
   ]
  },
  {
   "cell_type": "code",
   "execution_count": null,
   "metadata": {},
   "outputs": [],
   "source": [
    "# Insert a new element\n",
    "dict1['Junaid'].append('Pusher') # Insert my previous workplace\n",
    "dict1"
   ]
  },
  {
   "cell_type": "code",
   "execution_count": null,
   "metadata": {},
   "outputs": [],
   "source": [
    "# Delete an element from a dictionary\n",
    "del dict1['Junaid'][2]\n",
    "dict1"
   ]
  },
  {
   "cell_type": "code",
   "execution_count": null,
   "metadata": {},
   "outputs": [],
   "source": [
    "# We can access all the keys in a dictionary\n",
    "dict1.keys() # But this format isn't helpful so we turn them into a list\n",
    "list(dict1.keys())"
   ]
  },
  {
   "cell_type": "code",
   "execution_count": null,
   "metadata": {},
   "outputs": [],
   "source": [
    "# We can access all the values in a dictionary\n",
    "dict1.values()\n",
    "list(dict1.values())"
   ]
  },
  {
   "cell_type": "code",
   "execution_count": null,
   "metadata": {},
   "outputs": [],
   "source": [
    "# We can merge one dict into another\n",
    "d1 = {'a': 'some value', 7: 'an integer'}\n",
    "d2 = {'b': 'foo', 'c': '12'}\n",
    "\n",
    "d1.update(d2) # Update is done in place so d1 is mutated\n",
    "d1"
   ]
  },
  {
   "cell_type": "code",
   "execution_count": null,
   "metadata": {},
   "outputs": [],
   "source": [
    "# Bonus: Making dictionaries with zip\n",
    "# Say you have 2 lists  - one of keys and one of values. We can make them into a dictionary using zip\n",
    "key = ['Junaid', 'Amin', 'Jainaba']\n",
    "values = [1993, None, 1996]\n",
    "\n",
    "age_dict = dict(zip(key, values)) # zip pairs them, dict turns them into a dictionary\n",
    "\n",
    "age_dict"
   ]
  },
  {
   "cell_type": "markdown",
   "metadata": {},
   "source": [
    "## Set\n",
    "\n",
    "* From Mathematics, a set is an unordered collection of unique elements.\n",
    "\n",
    "* For full set of operations, see the chapter."
   ]
  },
  {
   "cell_type": "code",
   "execution_count": null,
   "metadata": {},
   "outputs": [],
   "source": [
    "# A set is created using the set function or curly braces\n",
    "set([2, 2, 2, 1, 3, 3])\n",
    "{2, 2, 2, 1, 3, 3}"
   ]
  },
  {
   "cell_type": "code",
   "execution_count": null,
   "metadata": {},
   "outputs": [],
   "source": [
    "# Sets support mathematical set operations like union, intersection, difference and symmetric difference\n",
    "# Make 2 sets\n",
    "a = {1, 2, 3, 4, 5}\n",
    "b = {3, 4, 5, 6, 7, 8}\n",
    "\n",
    "# Union\n",
    "a.union(b)\n",
    "a | b"
   ]
  },
  {
   "cell_type": "code",
   "execution_count": null,
   "metadata": {},
   "outputs": [],
   "source": [
    "# Intersection\n",
    "a.intersection(b); a & b"
   ]
  },
  {
   "cell_type": "code",
   "execution_count": null,
   "metadata": {},
   "outputs": [],
   "source": [
    "# Check if a set is a subset of the other\n",
    "a_set = {1,2,3,4,5}\n",
    "{1,2,3}.issubset(a_set)"
   ]
  },
  {
   "cell_type": "markdown",
   "metadata": {},
   "source": [
    "# Functions\n",
    "\n",
    "* Functions are the primary and most important method of code organisation and reuse in Python.\n",
    "\n",
    "* If you need to repeat the same of very similar code more than once, it is worth writing a resuable function. \n",
    "\n",
    "* Functions are declared with the def keyword and a result is returned with the return keyword"
   ]
  },
  {
   "cell_type": "code",
   "execution_count": null,
   "metadata": {},
   "outputs": [],
   "source": [
    "# Let's define a function to cube a number and add the log of the other\n",
    "def my_function(x,y):\n",
    "    z = x**3 + np.log(y) # Variables created inside a function are not created globally\n",
    "    return z\n",
    "\n",
    "# Let's use the function\n",
    "my_function(x = 2, y = 3)"
   ]
  },
  {
   "cell_type": "code",
   "execution_count": null,
   "metadata": {},
   "outputs": [],
   "source": [
    "# Inputs to a function are called arguments. In the previous function, x and y are called arguments.\n",
    "# Arguments can be named anything and we can set some arguments to a default value\n",
    "def my_sloppy_function(junaid, jainaba, power = 3):\n",
    "    z = junaid**power + np.log(jainaba)\n",
    "    return z\n",
    "\n"
   ]
  },
  {
   "cell_type": "code",
   "execution_count": null,
   "metadata": {},
   "outputs": [],
   "source": [
    "# The function gives the same result\n",
    "my_sloppy_function(junaid = 2, jainaba = 3) # In this function, we assume the default value"
   ]
  },
  {
   "cell_type": "code",
   "execution_count": null,
   "metadata": {},
   "outputs": [],
   "source": [
    "# We can change the default argument value too\n",
    "my_sloppy_function(junaid = 2, jainaba = 3, power = 2)"
   ]
  },
  {
   "cell_type": "code",
   "execution_count": null,
   "metadata": {},
   "outputs": [],
   "source": [
    "# We can stick anything inside a function and return it\n",
    "# Let's make a function to check if an input star sign is Junaid's star sign\n",
    "def is_junaid_starsign(starsign):\n",
    "    \n",
    "    # Change the input to all lowercase\n",
    "    lc_starsign = starsign.lower()\n",
    "    \n",
    "    # Use an if else statement to check if it's my starsign\n",
    "    if lc_starsign == 'leo':\n",
    "        z = \"This is Junaid\\'s starsign yay\"\n",
    "    else:\n",
    "        z = \"This is not Junaid\\'s starsign - don't you know astrology is haram!\"\n",
    "        \n",
    "    return z\n",
    "    "
   ]
  },
  {
   "cell_type": "code",
   "execution_count": null,
   "metadata": {},
   "outputs": [],
   "source": [
    "# Test the function\n",
    "is_junaid_starsign('Cancer')"
   ]
  },
  {
   "cell_type": "code",
   "execution_count": null,
   "metadata": {},
   "outputs": [],
   "source": [
    "# A function can return multiple values\n",
    "# Write a function to return capital cities\n",
    "\n",
    "capitals = ['London', 'Paris', 'Dubai', 'Moscow', 'Madinah', 'Addis Abbaba']\n",
    "\n",
    "def give_me_cities(x = 'London', y = 'Paris', z = 'Dubai'):\n",
    "    \n",
    "    e = 'Moscow'; f = 'Madinah'; g = 'Addis Abbaba'\n",
    "    \n",
    "    return x,y,z,e,f,g\n",
    "\n",
    "give_me_cities(x = 'London', y = 'Paris', z = 'Dubai')"
   ]
  },
  {
   "cell_type": "code",
   "execution_count": null,
   "metadata": {},
   "outputs": [],
   "source": [
    "# We can save a function's results to a variable\n",
    "capital_tup = give_me_cities(x = 'London', y = 'Paris', z = 'Dubai')"
   ]
  },
  {
   "cell_type": "code",
   "execution_count": null,
   "metadata": {},
   "outputs": [],
   "source": [
    "# We can save the multiple returned values to multiple output objects\n",
    "# We can even make functions with no arguments - NOT RECOMMENDED\n",
    "def useless_function():\n",
    "    x = list(np.random.poisson(lam = 1, size = 2))\n",
    "    y = list(np.random.poisson(lam = 1, size = 2))\n",
    "    \n",
    "    return x, y\n",
    "\n",
    "foo, bar = useless_function()"
   ]
  },
  {
   "cell_type": "markdown",
   "metadata": {},
   "source": [
    "# Asking for help\n",
    "\n",
    "* Very often there will be built in functions about which you don't know. We can use the help() function with the function name as the argument to check the Python documentation.\n",
    "\n",
    "* Failing that, it's legitimate to check the internet (stackoverflow)"
   ]
  },
  {
   "cell_type": "code",
   "execution_count": null,
   "metadata": {},
   "outputs": [],
   "source": [
    "# Using the help function gives access to Python documentation\n",
    "help(np.random.poisson)"
   ]
  },
  {
   "cell_type": "code",
   "execution_count": null,
   "metadata": {},
   "outputs": [],
   "source": []
  },
  {
   "cell_type": "code",
   "execution_count": null,
   "metadata": {},
   "outputs": [],
   "source": []
  }
 ],
 "metadata": {
  "kernelspec": {
   "display_name": "Python 3",
   "language": "python",
   "name": "python3"
  },
  "language_info": {
   "codemirror_mode": {
    "name": "ipython",
    "version": 3
   },
   "file_extension": ".py",
   "mimetype": "text/x-python",
   "name": "python",
   "nbconvert_exporter": "python",
   "pygments_lexer": "ipython3",
   "version": "3.8.3"
  }
 },
 "nbformat": 4,
 "nbformat_minor": 4
}
