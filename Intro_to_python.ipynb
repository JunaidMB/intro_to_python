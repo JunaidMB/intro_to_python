{
 "cells": [
  {
   "cell_type": "markdown",
   "metadata": {},
   "source": [
    "# Introduction to Basic Python Ideas\n",
    "## Main ideas taken from Python for Data Analysis by Wes Mckinney - READ THE RELEVANT CHAPTERS"
   ]
  },
  {
   "cell_type": "markdown",
   "metadata": {},
   "source": [
    "## Variable Assignment"
   ]
  },
  {
   "cell_type": "code",
   "execution_count": 2,
   "metadata": {},
   "outputs": [],
   "source": [
    "a = 5\n",
    "b = 'cookie'\n",
    "c = 10"
   ]
  },
  {
   "cell_type": "code",
   "execution_count": 3,
   "metadata": {},
   "outputs": [
    {
     "name": "stdout",
     "output_type": "stream",
     "text": [
      "5\n"
     ]
    }
   ],
   "source": [
    "d = a\n",
    "print(d)"
   ]
  },
  {
   "cell_type": "code",
   "execution_count": null,
   "metadata": {},
   "outputs": [],
   "source": [
    "a == c\n",
    "#a is c"
   ]
  },
  {
   "cell_type": "markdown",
   "metadata": {},
   "source": [
    "## Everything is an Object in Python"
   ]
  },
  {
   "cell_type": "code",
   "execution_count": null,
   "metadata": {},
   "outputs": [],
   "source": [
    "a = 5 # Integer\n",
    "b = 5.4 # Float\n",
    "c = 'apple' #String\n",
    "d = True # Boolean\n",
    "e = 0 # Boolean\n",
    "f = None # None"
   ]
  },
  {
   "cell_type": "code",
   "execution_count": null,
   "metadata": {},
   "outputs": [],
   "source": [
    "# Checking types of objects\n",
    "type(a)"
   ]
  },
  {
   "cell_type": "code",
   "execution_count": null,
   "metadata": {},
   "outputs": [],
   "source": [
    "isinstance(a, int)"
   ]
  },
  {
   "cell_type": "code",
   "execution_count": null,
   "metadata": {},
   "outputs": [],
   "source": [
    "# Type casting: We can cast one type into another (within reason)\n",
    "float(a)"
   ]
  },
  {
   "cell_type": "code",
   "execution_count": null,
   "metadata": {},
   "outputs": [],
   "source": [
    "# Type casting is not done in place, if you check a again\n",
    "print(a)\n",
    "# But if you assign it to another variable, then we have the new variable\n",
    "j = float(a)\n",
    "print(j)"
   ]
  },
  {
   "cell_type": "code",
   "execution_count": null,
   "metadata": {},
   "outputs": [],
   "source": [
    "int(b)"
   ]
  },
  {
   "cell_type": "code",
   "execution_count": null,
   "metadata": {},
   "outputs": [],
   "source": [
    "float(c)"
   ]
  },
  {
   "cell_type": "code",
   "execution_count": null,
   "metadata": {},
   "outputs": [],
   "source": [
    "str(a)"
   ]
  },
  {
   "cell_type": "markdown",
   "metadata": {},
   "source": [
    "# Attributes and Methods\n",
    "\n",
    "* Each object has attributes that are unique to the object. E.g. Characters can be capitalised whereas number cannot be. Numbers can be divided by each other but characters cannot.\n",
    "\n",
    "\n",
    "* Each object also has a set of allowable functions, called methods, which can be used on the object. Again, we can raise a number to a power but not a letter so the function of raising to the power is a method unique to a integer or float object."
   ]
  },
  {
   "cell_type": "code",
   "execution_count": null,
   "metadata": {},
   "outputs": [],
   "source": [
    "string = 'hi my name is slim shady'"
   ]
  },
  {
   "cell_type": "code",
   "execution_count": null,
   "metadata": {},
   "outputs": [],
   "source": [
    "print(string.upper())"
   ]
  },
  {
   "cell_type": "code",
   "execution_count": null,
   "metadata": {},
   "outputs": [],
   "source": [
    "capital_string = string.upper()"
   ]
  },
  {
   "cell_type": "code",
   "execution_count": null,
   "metadata": {},
   "outputs": [],
   "source": [
    "capital_string.endswith('SHaDY')"
   ]
  },
  {
   "cell_type": "code",
   "execution_count": null,
   "metadata": {},
   "outputs": [],
   "source": [
    "# Do we get a different set of methods if we have a different object\n",
    "number = 7.5"
   ]
  },
  {
   "cell_type": "code",
   "execution_count": null,
   "metadata": {},
   "outputs": [],
   "source": [
    "number.as_integer_ratio()"
   ]
  },
  {
   "cell_type": "code",
   "execution_count": null,
   "metadata": {},
   "outputs": [],
   "source": [
    "number.is_integer()"
   ]
  },
  {
   "cell_type": "markdown",
   "metadata": {},
   "source": [
    "# Binary Operators"
   ]
  },
  {
   "cell_type": "code",
   "execution_count": null,
   "metadata": {},
   "outputs": [],
   "source": [
    "# We can use operators to find out relationships between objects. These are usually logical operators.\n",
    "a = 3\n",
    "b = 4"
   ]
  },
  {
   "cell_type": "code",
   "execution_count": null,
   "metadata": {},
   "outputs": [],
   "source": [
    "# AND\n",
    "((a > 1) & (b < 10))"
   ]
  },
  {
   "cell_type": "code",
   "execution_count": null,
   "metadata": {},
   "outputs": [],
   "source": [
    "# OR\n",
    "((a > 1) | (b < 2))"
   ]
  },
  {
   "cell_type": "code",
   "execution_count": null,
   "metadata": {},
   "outputs": [],
   "source": [
    "# EXCLUSIVE OR\n",
    "((a > 1) ^ (b < 2))"
   ]
  },
  {
   "cell_type": "code",
   "execution_count": null,
   "metadata": {},
   "outputs": [],
   "source": [
    "# EQUIVALENCE\n",
    "a == b"
   ]
  },
  {
   "cell_type": "code",
   "execution_count": null,
   "metadata": {},
   "outputs": [],
   "source": [
    "# NOT EQUIVALENCE\n",
    "a != b"
   ]
  },
  {
   "cell_type": "code",
   "execution_count": null,
   "metadata": {},
   "outputs": [],
   "source": [
    "# MATHEMATICAL OPERATORS\n",
    "print(3**2)\n",
    "print(5 > 6)\n",
    "print(5 <= 5)\n"
   ]
  },
  {
   "cell_type": "markdown",
   "metadata": {},
   "source": [
    "# Strings"
   ]
  },
  {
   "cell_type": "code",
   "execution_count": null,
   "metadata": {},
   "outputs": [],
   "source": [
    "string1 = \"This is one way to make a string\""
   ]
  },
  {
   "cell_type": "code",
   "execution_count": null,
   "metadata": {},
   "outputs": [],
   "source": [
    "string2 = 'This is another way to make a string'"
   ]
  },
  {
   "cell_type": "code",
   "execution_count": null,
   "metadata": {},
   "outputs": [],
   "source": [
    "string3 = \"\"\"\n",
    "If you have an essay that the world just needs to hear, then you can use\n",
    "triple double commas and stick what you want in between.\n",
    "\"\"\""
   ]
  },
  {
   "cell_type": "code",
   "execution_count": null,
   "metadata": {},
   "outputs": [],
   "source": [
    "# Notice the escape quotes\n",
    "string3"
   ]
  },
  {
   "cell_type": "code",
   "execution_count": null,
   "metadata": {},
   "outputs": [],
   "source": [
    "# They disappear when printing\n",
    "print(string3)"
   ]
  },
  {
   "cell_type": "code",
   "execution_count": null,
   "metadata": {},
   "outputs": [],
   "source": [
    "intro = \"My name is Junaid\""
   ]
  },
  {
   "cell_type": "code",
   "execution_count": null,
   "metadata": {},
   "outputs": [],
   "source": [
    "# There are a whole host of String methods we can use\n",
    "newintro = intro.replace(\"Junaid\", \"Joe\")\n",
    "newintro"
   ]
  },
  {
   "cell_type": "code",
   "execution_count": null,
   "metadata": {},
   "outputs": [],
   "source": [
    "# We can concatenate strings together\n",
    "'My best friend is ' + 'Junaid'"
   ]
  },
  {
   "cell_type": "code",
   "execution_count": null,
   "metadata": {},
   "outputs": [],
   "source": [
    "# We can do this via variable assignment too\n",
    "first_text = \"My best friend is\"\n",
    "name = \"Junaid\"\n",
    "first_text + name"
   ]
  },
  {
   "cell_type": "code",
   "execution_count": null,
   "metadata": {},
   "outputs": [],
   "source": [
    "# A neat trick is string interpolation, using curly braces {}\n",
    "string_to_interpolate = 'my name is {}'\n",
    "string_to_interpolate"
   ]
  },
  {
   "cell_type": "code",
   "execution_count": null,
   "metadata": {},
   "outputs": [],
   "source": [
    "string_to_interpolate.format('Junaid')"
   ]
  },
  {
   "cell_type": "code",
   "execution_count": null,
   "metadata": {},
   "outputs": [],
   "source": [
    "string_to_interpolate_more = 'my name is {} and I live in the {}'\n",
    "string_to_interpolate_more.format('Junaid', 'United Kingdom')"
   ]
  },
  {
   "cell_type": "code",
   "execution_count": null,
   "metadata": {},
   "outputs": [],
   "source": [
    "string_to_interpolate_more = 'my name is {} and I live in the {}'\n",
    "name = ''\n",
    "location = ''\n",
    "string_to_interpolate_more.format(name, location)"
   ]
  },
  {
   "cell_type": "code",
   "execution_count": null,
   "metadata": {},
   "outputs": [],
   "source": [
    "# A quicker way is f strings\n",
    "name = 'Junaid'\n",
    "location = 'United Kingdom'\n",
    "f_string_interpolated  = f'my name is {name} and I live in the {location}'\n",
    "f_string_interpolated"
   ]
  },
  {
   "cell_type": "markdown",
   "metadata": {},
   "source": [
    "# Dates and Times\n",
    "\n",
    "* Datetimes are considered in a special way with Python. Dates are not a native base structure but with the datetime library, there is an imported Python structure - called a datetime object.\n",
    "\n",
    "* It's worth going over the full details in the book - from page 44"
   ]
  },
  {
   "cell_type": "code",
   "execution_count": null,
   "metadata": {},
   "outputs": [],
   "source": [
    "from datetime import datetime, date, time"
   ]
  },
  {
   "cell_type": "code",
   "execution_count": null,
   "metadata": {},
   "outputs": [],
   "source": [
    "# Today's date\n",
    "today = datetime.today()\n",
    "today"
   ]
  },
  {
   "cell_type": "code",
   "execution_count": null,
   "metadata": {},
   "outputs": [],
   "source": [
    "# We can pull things out of the datetime object\n",
    "[today.day\n",
    ",today.minute\n",
    ",today.microsecond]"
   ]
  },
  {
   "cell_type": "code",
   "execution_count": null,
   "metadata": {},
   "outputs": [],
   "source": [
    "# We can format datetime objects to they look like dates that we recognise\n",
    "today.strftime(\"%d/%m/%Y %H:%M:%S\")"
   ]
  },
  {
   "cell_type": "code",
   "execution_count": null,
   "metadata": {},
   "outputs": [],
   "source": [
    "# We can convert properly formatted strings to datetimes\n",
    "datetime.strptime('19930728', '%Y%m%d')"
   ]
  },
  {
   "cell_type": "markdown",
   "metadata": {},
   "source": [
    "# Control Flow\n",
    "\n",
    "* if, elif and else. The if statement is one of the most well-known control flow statement types. It checks a condition that, if True, evaluates the code in the block that follows."
   ]
  },
  {
   "cell_type": "code",
   "execution_count": null,
   "metadata": {},
   "outputs": [],
   "source": [
    "if x < 0:\n",
    "    print(\"Houston we have a negative number\")"
   ]
  },
  {
   "cell_type": "code",
   "execution_count": null,
   "metadata": {},
   "outputs": [],
   "source": [
    "if x < 0:\n",
    "    print(\"Houston we have a negative number\")\n",
    "else:\n",
    "    print(\"Houston we have a nonnegative number\")"
   ]
  },
  {
   "cell_type": "code",
   "execution_count": null,
   "metadata": {},
   "outputs": [],
   "source": [
    "if x < 0: \n",
    "    print('negative!')\n",
    "elif x == 0:\n",
    "    # TODO: put something smart here \n",
    "    pass\n",
    "else: \n",
    "    print('positive!')"
   ]
  },
  {
   "cell_type": "code",
   "execution_count": null,
   "metadata": {},
   "outputs": [],
   "source": [
    "# An if statement can be optionally followed by one or more elif blocks and a catch- \n",
    "# all else block if all of the conditions are False:\n",
    "if x < 0:\n",
    "    print('It\\'s negative')\n",
    "elif x == 0:\n",
    "    print('Equal to zero')\n",
    "elif 0<x<5:\n",
    "    print('Positive but smaller than 5')\n",
    "else:\n",
    "    print('Positive and larger than or equal to 5')"
   ]
  },
  {
   "cell_type": "markdown",
   "metadata": {},
   "source": [
    "# Loops\n",
    "* There are 2 types of loops: for loops and while loops. Before we understand loops, let's meet lists."
   ]
  },
  {
   "cell_type": "code",
   "execution_count": 10,
   "metadata": {},
   "outputs": [],
   "source": [
    "# A list is the most basic data structure in Python. \n",
    "# We hold things of different types in it\n",
    "list1 = [1, 2, 3, 11, -9]\n",
    "list2 = ['apple', 'orange', 'banana']\n",
    "list3 = [1, 'Junaid', 27, 'Joe', ['Junaid', 28, 7, 1993]]"
   ]
  },
  {
   "cell_type": "code",
   "execution_count": 11,
   "metadata": {},
   "outputs": [
    {
     "data": {
      "text/plain": [
       "[5, 3, 5]"
      ]
     },
     "execution_count": 11,
     "metadata": {},
     "output_type": "execute_result"
    }
   ],
   "source": [
    "# We can see how large a list is by using the len() function\n",
    "[len(list1), len(list2), len(list3)]"
   ]
  },
  {
   "cell_type": "code",
   "execution_count": 14,
   "metadata": {},
   "outputs": [
    {
     "name": "stdout",
     "output_type": "stream",
     "text": [
      "apple\n",
      "['Junaid', 27, 'Joe', ['Junaid', 28, 7, 1993]]\n",
      "['Junaid', 28, 7]\n"
     ]
    }
   ],
   "source": [
    "# We can access elements of a list by using indexing and slicing\n",
    "# Indexing: Python starts with 0!!\n",
    "list2[0]\n",
    "print(list2[0])\n",
    "\n",
    "# Slicing: Return all elements in a list from element 1 to before element 4\n",
    "list3[1:4]\n",
    "print(list3[1:5])\n",
    "print(list3[4][0:3]) # You can recursively index/ slice"
   ]
  },
  {
   "cell_type": "code",
   "execution_count": 15,
   "metadata": {},
   "outputs": [
    {
     "data": {
      "text/plain": [
       "[18, 5000000, 0.987, 0.5]"
      ]
     },
     "execution_count": 15,
     "metadata": {},
     "output_type": "execute_result"
    }
   ],
   "source": [
    "# We can add things to a list using the append method. Things are added at the end.\n",
    "little_list = [18, 5000000, 0.987]\n",
    "little_list.append(0.5) # This is added in place\n",
    "\n",
    "little_list"
   ]
  },
  {
   "cell_type": "code",
   "execution_count": 16,
   "metadata": {},
   "outputs": [
    {
     "data": {
      "text/plain": [
       "[18, 5000000, 0.5]"
      ]
     },
     "execution_count": 16,
     "metadata": {},
     "output_type": "execute_result"
    }
   ],
   "source": [
    "# We can take things out of a list using the pop method\n",
    "little_list.pop(2) # Here we specify an index vs a value. Remove something from the 2nd position\n",
    "little_list"
   ]
  },
  {
   "cell_type": "code",
   "execution_count": 17,
   "metadata": {},
   "outputs": [
    {
     "name": "stdout",
     "output_type": "stream",
     "text": [
      "[1, 2, 3, 11, -9]\n",
      "[2, 4, 6, 22, 18]\n"
     ]
    }
   ],
   "source": [
    "# Say we wanted to take the list [1, 2, 3, 11, -9] and multiply every element in it by 2, we also want all numbers to be positive. \n",
    "# To do this we need an output empty list in which we will save our result and write the code for our for loop\n",
    "list1 = [1, 2, 3, 11, -9]\n",
    "output_list = []\n",
    "\n",
    "# Zeroth element\n",
    "x = abs(2*list1[0])\n",
    "output_list.append(x)\n",
    "\n",
    "# First element\n",
    "x = abs(2*list1[1])\n",
    "output_list.append(x)\n",
    "\n",
    "# Second element\n",
    "x = abs(2*list1[2])\n",
    "output_list.append(x)\n",
    "\n",
    "# Third element\n",
    "x = abs(2*list1[3])\n",
    "output_list.append(x)\n",
    "\n",
    "# Fourth element\n",
    "x = abs(2*list1[4])\n",
    "output_list.append(x)\n",
    "\n",
    "print(list1)\n",
    "print(output_list)"
   ]
  },
  {
   "cell_type": "code",
   "execution_count": 18,
   "metadata": {},
   "outputs": [
    {
     "data": {
      "text/plain": [
       "[2, 4, 6, 22, 18]"
      ]
     },
     "execution_count": 18,
     "metadata": {},
     "output_type": "execute_result"
    }
   ],
   "source": [
    "# For loops: These loops are for when we want to perform an operation over a series of elements in an object\n",
    "# Say we wanted to take the list [1, 2, 3, 11, -9] and multiply every element in it by 2, we also want all numbers to be positive. \n",
    "# To do this we need an output empty list in which we will save our result and write the code for our for loop\n",
    "output_list = [] # Here is an empty list where we want to put our resulting elements in\n",
    "\n",
    "for element in range(0, len(list1)): # For every element in the range between 0 and the length of our input list\n",
    "    \n",
    "    x = abs(2 * list1[element]) # What should the value be in the output list at this stage?\n",
    "    output_list.append(x) # Append it to the output list\n",
    "    \n",
    "output_list"
   ]
  },
  {
   "cell_type": "code",
   "execution_count": 19,
   "metadata": {},
   "outputs": [
    {
     "data": {
      "text/plain": [
       "[2, 'APPLE', 4, 'MANGO', 16, 'GRAPES']"
      ]
     },
     "execution_count": 19,
     "metadata": {},
     "output_type": "execute_result"
    }
   ],
   "source": [
    "input_list = [1, 'apple', 2, 'mango', 8, 'grapes']\n",
    "\n",
    "output_list = []\n",
    "\n",
    "for position in range(0, len(input_list)):\n",
    "    y = input_list[position]\n",
    "\n",
    "    if isinstance(y, int):\n",
    "        z = y*2\n",
    "    else:\n",
    "        z = y.upper()\n",
    "    \n",
    "    output_list.append(z)\n",
    "    \n",
    "output_list\n"
   ]
  },
  {
   "cell_type": "code",
   "execution_count": 20,
   "metadata": {},
   "outputs": [
    {
     "name": "stdout",
     "output_type": "stream",
     "text": [
      "[0, 1]\n",
      "[1, 'apple']\n",
      "[2, 2]\n",
      "[3, 'mango']\n",
      "[4, 8]\n",
      "[5, 'grapes']\n"
     ]
    }
   ],
   "source": [
    "# One better way to iterate over a range is to use enumerate where we can access the index of the list and the values\n",
    "input_list = [1, 'apple', 2, 'mango', 8, 'grapes']\n",
    "\n",
    "for index, value in enumerate(input_list):\n",
    "    print([index, value])"
   ]
  },
  {
   "cell_type": "code",
   "execution_count": 22,
   "metadata": {},
   "outputs": [
    {
     "data": {
      "text/plain": [
       "[2, 'APPLE', 4, 'MANGO', 16, 'GRAPES']"
      ]
     },
     "execution_count": 22,
     "metadata": {},
     "output_type": "execute_result"
    }
   ],
   "source": [
    "# We can rewrite the above loop in a cleaner syntax\n",
    "input_list = [1, 'apple', 2, 'mango', 8, 'grapes']\n",
    "\n",
    "output_list = []\n",
    "\n",
    "for index, value in enumerate(input_list):\n",
    "    if isinstance(value, int):\n",
    "        z = value*2\n",
    "    else:\n",
    "        z = value.upper()\n",
    "    \n",
    "    output_list.append(z)\n",
    "    \n",
    "output_list"
   ]
  },
  {
   "cell_type": "code",
   "execution_count": 23,
   "metadata": {},
   "outputs": [
    {
     "data": {
      "text/plain": [
       "504"
      ]
     },
     "execution_count": 23,
     "metadata": {},
     "output_type": "execute_result"
    }
   ],
   "source": [
    "# While loops: This runs a piece of code iteratively until a condition is met\n",
    "x = 256\n",
    "total = 0\n",
    "\n",
    "while x > 0:\n",
    "    if total > 500:\n",
    "        break # Break the if statement\n",
    "    total += x\n",
    "    x = x // 2\n",
    "\n",
    "total"
   ]
  },
  {
   "cell_type": "code",
   "execution_count": null,
   "metadata": {},
   "outputs": [],
   "source": [
    "256 + (256 // 2) + (128 // 2) + (64 // 2) + (32 // 2) + (16 // 2)"
   ]
  },
  {
   "cell_type": "markdown",
   "metadata": {},
   "source": [
    "# Importing Modules\n",
    "\n",
    "* In Python, we have base objects and functions which come with the initial install of the language. However there are some functions that we can download which are additional to what we call base Python. \n",
    "\n",
    "* We do this by installing and importing modules/ libraries/ packages. Then we can extend the reach of Python.\n",
    "\n",
    "* For full information, please see: https://jakevdp.github.io/blog/2017/12/05/installing-python-packages-from-jupyter/"
   ]
  },
  {
   "cell_type": "code",
   "execution_count": 24,
   "metadata": {},
   "outputs": [
    {
     "name": "stdout",
     "output_type": "stream",
     "text": [
      "Collecting numpy\n",
      "  Using cached numpy-1.22.2-cp310-cp310-macosx_10_14_x86_64.whl (17.6 MB)\n",
      "Installing collected packages: numpy\n",
      "Successfully installed numpy-1.22.2\n"
     ]
    }
   ],
   "source": [
    "# Install a module - Using pip\n",
    "# Install a pip package in the current Jupyter kernel\n",
    "import sys\n",
    "!{sys.executable} -m pip install numpy"
   ]
  },
  {
   "cell_type": "code",
   "execution_count": null,
   "metadata": {},
   "outputs": [],
   "source": [
    "# Installing a module - Using Conda\n",
    "# Install a conda package in the current Jupyter kernel\n",
    "import sys\n",
    "!conda install --yes --prefix {sys.prefix} numpy"
   ]
  },
  {
   "cell_type": "code",
   "execution_count": 25,
   "metadata": {},
   "outputs": [],
   "source": [
    "# Once a library is installed, it doesn't mean we can use it straight away. We must be imported.\n",
    "import numpy as np"
   ]
  },
  {
   "cell_type": "code",
   "execution_count": null,
   "metadata": {},
   "outputs": [],
   "source": [
    "# Sometimes you will have massive modules where you only want to import some functions - DON'T RUN\n",
    "from numpy import fookinlongpackage as apple, greatanotherlongpackage as banana"
   ]
  },
  {
   "cell_type": "code",
   "execution_count": 26,
   "metadata": {},
   "outputs": [
    {
     "data": {
      "text/plain": [
       "10.0"
      ]
     },
     "execution_count": 26,
     "metadata": {},
     "output_type": "execute_result"
    }
   ],
   "source": [
    "# Once we have a module imported, we can use the functions contained within.\n",
    "# Since we installed numpy with a prefix np, we can use that as a reference\n",
    "np.ceil(9.86) # Ceiling function always rounds up to the nearest integer"
   ]
  },
  {
   "cell_type": "markdown",
   "metadata": {},
   "source": [
    "# Built-in Data Structures\n",
    "\n",
    "* In Python we have multiple native data structures.\n",
    "* These are VERY important to know so check out Chapter 3 in the book"
   ]
  },
  {
   "cell_type": "code",
   "execution_count": 27,
   "metadata": {},
   "outputs": [],
   "source": [
    "# We have already seen lists\n",
    "list1 = ['tinky winky', 'dipsy', 'lala', 'po', [1, 2, 3]]"
   ]
  },
  {
   "cell_type": "markdown",
   "metadata": {},
   "source": [
    "## Tuple"
   ]
  },
  {
   "cell_type": "code",
   "execution_count": 28,
   "metadata": {},
   "outputs": [
    {
     "data": {
      "text/plain": [
       "(9, 11, 4.5)"
      ]
     },
     "execution_count": 28,
     "metadata": {},
     "output_type": "execute_result"
    }
   ],
   "source": [
    "# Tuple: A tuple is a fixed-length, immutable sequence of Python objects\n",
    "# They are created with a comma-separated sequence of values\n",
    "tuple_1 = (9, 11, 4.5)\n",
    "tuple_1"
   ]
  },
  {
   "cell_type": "code",
   "execution_count": 29,
   "metadata": {},
   "outputs": [
    {
     "data": {
      "text/plain": [
       "((4, 5, 6), (7, 8))"
      ]
     },
     "execution_count": 29,
     "metadata": {},
     "output_type": "execute_result"
    }
   ],
   "source": [
    "# We can nest tuples too\n",
    "nested_tup = ((4,5,6), (7,8))\n",
    "nested_tup"
   ]
  },
  {
   "cell_type": "code",
   "execution_count": 33,
   "metadata": {},
   "outputs": [
    {
     "name": "stdout",
     "output_type": "stream",
     "text": [
      "(4, 0, 2)\n",
      "('s', 't', 'r', 'i', 'n', 'g')\n"
     ]
    }
   ],
   "source": [
    "# We can convert any sequence to iterator into a tuple using the function tuple()\n",
    "list_converted_tuple = tuple([4, 0, 2])\n",
    "string_converted_tuple = tuple('string')\n",
    "\n",
    "print(list_converted_tuple)\n",
    "print(string_converted_tuple)"
   ]
  },
  {
   "cell_type": "code",
   "execution_count": 34,
   "metadata": {},
   "outputs": [
    {
     "data": {
      "text/plain": [
       "'t'"
      ]
     },
     "execution_count": 34,
     "metadata": {},
     "output_type": "execute_result"
    }
   ],
   "source": [
    "# Accessing tuples: We can access tuples with square brackets and are 0-indexed\n",
    "string_converted_tuple[1]"
   ]
  },
  {
   "cell_type": "code",
   "execution_count": 35,
   "metadata": {},
   "outputs": [
    {
     "data": {
      "text/plain": [
       "[1, 4, 56]"
      ]
     },
     "execution_count": 35,
     "metadata": {},
     "output_type": "execute_result"
    }
   ],
   "source": [
    "# Tuples are immutable vs lists\n",
    "lst = [1, 3, 19]\n",
    "tup = (1, 3, 19)\n",
    "\n",
    "# Say we wanted to replace the 3 with a 4\n",
    "# We can do this with a list\n",
    "lst[1] = 4\n",
    "lst[2] = 56\n",
    "\n",
    "lst"
   ]
  },
  {
   "cell_type": "code",
   "execution_count": 36,
   "metadata": {},
   "outputs": [
    {
     "ename": "TypeError",
     "evalue": "'tuple' object does not support item assignment",
     "output_type": "error",
     "traceback": [
      "\u001b[0;31m---------------------------------------------------------------------------\u001b[0m",
      "\u001b[0;31mTypeError\u001b[0m                                 Traceback (most recent call last)",
      "\u001b[1;32m/Users/junaid/Developer/python_intro_class/Intro_to_python.ipynb Cell 84'\u001b[0m in \u001b[0;36m<module>\u001b[0;34m\u001b[0m\n\u001b[1;32m      <a href='vscode-notebook-cell:/Users/junaid/Developer/python_intro_class/Intro_to_python.ipynb#ch0000082?line=0'>1</a>\u001b[0m \u001b[39m# Say we wanted to replace the 3 with a 4\u001b[39;00m\n\u001b[1;32m      <a href='vscode-notebook-cell:/Users/junaid/Developer/python_intro_class/Intro_to_python.ipynb#ch0000082?line=1'>2</a>\u001b[0m \u001b[39m# We can't do this with a tuple\u001b[39;00m\n\u001b[0;32m----> <a href='vscode-notebook-cell:/Users/junaid/Developer/python_intro_class/Intro_to_python.ipynb#ch0000082?line=2'>3</a>\u001b[0m tup[\u001b[39m1\u001b[39m] \u001b[39m=\u001b[39m \u001b[39m4\u001b[39m\n",
      "\u001b[0;31mTypeError\u001b[0m: 'tuple' object does not support item assignment"
     ]
    }
   ],
   "source": [
    "# Say we wanted to replace the 3 with a 4\n",
    "# We can't do this with a tuple\n",
    "tup[1] = 4"
   ]
  },
  {
   "cell_type": "code",
   "execution_count": 37,
   "metadata": {},
   "outputs": [
    {
     "data": {
      "text/plain": [
       "(1, 2, 'foo', 3, 4, 'bar')"
      ]
     },
     "execution_count": 37,
     "metadata": {},
     "output_type": "execute_result"
    }
   ],
   "source": [
    "# We can concatenate tuples just like lists\n",
    "tup_a = (1, 2, 'foo')\n",
    "tup_b = (3, 4, 'bar')\n",
    "tup_a + tup_b"
   ]
  },
  {
   "cell_type": "code",
   "execution_count": 39,
   "metadata": {},
   "outputs": [
    {
     "data": {
      "text/plain": [
       "('Junaid',\n",
       " 'Butt',\n",
       " 'Junaid',\n",
       " 'Butt',\n",
       " 'Junaid',\n",
       " 'Butt',\n",
       " 'Junaid',\n",
       " 'Butt',\n",
       " 'Junaid',\n",
       " 'Butt')"
      ]
     },
     "execution_count": 39,
     "metadata": {},
     "output_type": "execute_result"
    }
   ],
   "source": [
    "# We can multiple a tuple by a number, like a just a list, and it replicates the elements\n",
    "tup_j = ('Junaid', 'Butt') \n",
    "tup_j * 5"
   ]
  },
  {
   "cell_type": "markdown",
   "metadata": {},
   "source": [
    "# Dictionary\n",
    "\n",
    "* A dictionary or dict in Python is the most important built-in Python data structure. It's also called a hash map or associative array.\n",
    "* It contains a list of pairs called keys and values"
   ]
  },
  {
   "cell_type": "code",
   "execution_count": 47,
   "metadata": {},
   "outputs": [
    {
     "data": {
      "text/plain": [
       "{'Junaid': ['Ice cream', 'marshmellows'],\n",
       " 'Arooj': 'Birthday Cake',\n",
       " 'Jannah': 47,\n",
       " 'Jainaba': 'Salad',\n",
       " 'Nosheen': 'Sushi',\n",
       " 'Fatima': ['Rice']}"
      ]
     },
     "execution_count": 47,
     "metadata": {},
     "output_type": "execute_result"
    }
   ],
   "source": [
    "# We create dictionaries using curly braces\n",
    "dict1 = {'Junaid': ['Ice cream', 'marshmellows'], 'Arooj': 'Birthday Cake', 'Jannah': 47, 'Jainaba': 'Salad',\n",
    "         'Nosheen': 'Sushi', 'Fatima': 'Rice'}\n",
    "dict1"
   ]
  },
  {
   "cell_type": "code",
   "execution_count": 43,
   "metadata": {},
   "outputs": [
    {
     "data": {
      "text/plain": [
       "'Birthday Cake'"
      ]
     },
     "execution_count": 43,
     "metadata": {},
     "output_type": "execute_result"
    }
   ],
   "source": [
    "# We can access, insert or set elements using square brackets but we specify the key by name here\n",
    "dict1['Arooj']"
   ]
  },
  {
   "cell_type": "code",
   "execution_count": 44,
   "metadata": {},
   "outputs": [
    {
     "data": {
      "text/plain": [
       "{'Junaid': ['Ice cream', 'cake'],\n",
       " 'Arooj': 'Birthday Cake',\n",
       " 'Jannah': 47,\n",
       " 'Jainaba': 'Salad',\n",
       " 'Nosheen': 'Sushi',\n",
       " 'Fatima': 'Rice'}"
      ]
     },
     "execution_count": 44,
     "metadata": {},
     "output_type": "execute_result"
    }
   ],
   "source": [
    "# Replace an existing element\n",
    "dict1['Junaid'][1] = 'cake'\n",
    "dict1"
   ]
  },
  {
   "cell_type": "code",
   "execution_count": 45,
   "metadata": {},
   "outputs": [
    {
     "data": {
      "text/plain": [
       "{'Junaid': ['Ice cream', 'cake', 'Pusher'],\n",
       " 'Arooj': 'Birthday Cake',\n",
       " 'Jannah': 47,\n",
       " 'Jainaba': 'Salad',\n",
       " 'Nosheen': 'Sushi',\n",
       " 'Fatima': 'Rice'}"
      ]
     },
     "execution_count": 45,
     "metadata": {},
     "output_type": "execute_result"
    }
   ],
   "source": [
    "# Insert a new element\n",
    "dict1['Junaid'].append('Pusher') # Insert my previous workplace\n",
    "dict1"
   ]
  },
  {
   "cell_type": "code",
   "execution_count": 48,
   "metadata": {},
   "outputs": [
    {
     "data": {
      "text/plain": [
       "{'Junaid': ['Ice cream', 'marshmellows'],\n",
       " 'Arooj': 'Birthday Cake',\n",
       " 'Jannah': 47,\n",
       " 'Jainaba': 'Salad',\n",
       " 'Nosheen': 'Sushi',\n",
       " 'Fatima': ['Rice', 'Pusher']}"
      ]
     },
     "execution_count": 48,
     "metadata": {},
     "output_type": "execute_result"
    }
   ],
   "source": [
    "dict1['Fatima'].append('Pusher') # Insert my previous workplace\n",
    "dict1"
   ]
  },
  {
   "cell_type": "code",
   "execution_count": 50,
   "metadata": {},
   "outputs": [
    {
     "data": {
      "text/plain": [
       "{'Junaid': ['Ice cream'],\n",
       " 'Arooj': 'Birthday Cake',\n",
       " 'Jannah': 47,\n",
       " 'Jainaba': 'Salad',\n",
       " 'Nosheen': 'Sushi',\n",
       " 'Fatima': ['Rice', 'Pusher']}"
      ]
     },
     "execution_count": 50,
     "metadata": {},
     "output_type": "execute_result"
    }
   ],
   "source": [
    "# Delete an element from a dictionary\n",
    "del dict1['Junaid'][1]\n",
    "dict1"
   ]
  },
  {
   "cell_type": "code",
   "execution_count": 51,
   "metadata": {},
   "outputs": [
    {
     "data": {
      "text/plain": [
       "['Junaid', 'Arooj', 'Jannah', 'Jainaba', 'Nosheen', 'Fatima']"
      ]
     },
     "execution_count": 51,
     "metadata": {},
     "output_type": "execute_result"
    }
   ],
   "source": [
    "# We can access all the keys in a dictionary\n",
    "dict1.keys() # But this format isn't helpful so we turn them into a list\n",
    "list(dict1.keys())"
   ]
  },
  {
   "cell_type": "code",
   "execution_count": 52,
   "metadata": {},
   "outputs": [
    {
     "data": {
      "text/plain": [
       "[['Ice cream'], 'Birthday Cake', 47, 'Salad', 'Sushi', ['Rice', 'Pusher']]"
      ]
     },
     "execution_count": 52,
     "metadata": {},
     "output_type": "execute_result"
    }
   ],
   "source": [
    "# We can access all the values in a dictionary\n",
    "dict1.values()\n",
    "list(dict1.values())"
   ]
  },
  {
   "cell_type": "code",
   "execution_count": 53,
   "metadata": {},
   "outputs": [
    {
     "data": {
      "text/plain": [
       "{'a': 'some value', 7: 'an integer', 'b': 'foo', 'c': '12'}"
      ]
     },
     "execution_count": 53,
     "metadata": {},
     "output_type": "execute_result"
    }
   ],
   "source": [
    "# We can merge one dict into another\n",
    "d1 = {'a': 'some value', 7: 'an integer'}\n",
    "d2 = {'b': 'foo', 'c': '12'}\n",
    "\n",
    "d1.update(d2) # Update is done in place so d1 is mutated\n",
    "d1"
   ]
  },
  {
   "cell_type": "code",
   "execution_count": 54,
   "metadata": {},
   "outputs": [
    {
     "data": {
      "text/plain": [
       "{'Junaid': 1993, 'Arooj': 1999, 'Fatima': 1996, 'Joe': 2001}"
      ]
     },
     "execution_count": 54,
     "metadata": {},
     "output_type": "execute_result"
    }
   ],
   "source": [
    "# Bonus: Making dictionaries with zip\n",
    "# Say you have 2 lists  - one of keys and one of values. We can make them into a dictionary using zip\n",
    "key = ['Junaid', 'Arooj', 'Fatima', 'Joe']\n",
    "values = [1993, 1999, 1996, 2001]\n",
    "\n",
    "age_dict = dict(zip(key, values)) # zip pairs them, dict turns them into a dictionary\n",
    "\n",
    "age_dict"
   ]
  },
  {
   "cell_type": "markdown",
   "metadata": {},
   "source": [
    "## Set\n",
    "\n",
    "* From Mathematics, a set is an unordered collection of unique elements.\n",
    "\n",
    "* For full set of operations, see the chapter."
   ]
  },
  {
   "cell_type": "code",
   "execution_count": 55,
   "metadata": {},
   "outputs": [
    {
     "data": {
      "text/plain": [
       "{1, 2, 3}"
      ]
     },
     "execution_count": 55,
     "metadata": {},
     "output_type": "execute_result"
    }
   ],
   "source": [
    "# A set is created using the set function or curly braces\n",
    "set([2, 2, 2, 1, 3, 3])\n",
    "{2, 2, 2, 1, 3, 3}"
   ]
  },
  {
   "cell_type": "code",
   "execution_count": 56,
   "metadata": {},
   "outputs": [
    {
     "data": {
      "text/plain": [
       "{1, 2, 3, 4, 5, 6, 7, 8}"
      ]
     },
     "execution_count": 56,
     "metadata": {},
     "output_type": "execute_result"
    }
   ],
   "source": [
    "# Sets support mathematical set operations like union, intersection, difference and symmetric difference\n",
    "# Make 2 sets\n",
    "a = {1, 2, 3, 4, 5}\n",
    "b = {3, 4, 5, 6, 7, 8}\n",
    "\n",
    "# Union\n",
    "a.union(b)\n",
    "a | b"
   ]
  },
  {
   "cell_type": "code",
   "execution_count": 57,
   "metadata": {},
   "outputs": [
    {
     "data": {
      "text/plain": [
       "{3, 4, 5}"
      ]
     },
     "execution_count": 57,
     "metadata": {},
     "output_type": "execute_result"
    }
   ],
   "source": [
    "# Intersection\n",
    "a.intersection(b); a & b"
   ]
  },
  {
   "cell_type": "code",
   "execution_count": 58,
   "metadata": {},
   "outputs": [
    {
     "data": {
      "text/plain": [
       "True"
      ]
     },
     "execution_count": 58,
     "metadata": {},
     "output_type": "execute_result"
    }
   ],
   "source": [
    "# Check if a set is a subset of the other\n",
    "a_set = {1,2,3,4,5}\n",
    "{1,2,3}.issubset(a_set)"
   ]
  },
  {
   "cell_type": "markdown",
   "metadata": {},
   "source": [
    "# Functions\n",
    "\n",
    "* Functions are the primary and most important method of code organisation and reuse in Python.\n",
    "\n",
    "* If you need to repeat the same or very similar code more than once, it is worth writing a resuable function. \n",
    "\n",
    "* Functions are declared with the def keyword and a result is returned with the return keyword"
   ]
  },
  {
   "cell_type": "code",
   "execution_count": 59,
   "metadata": {},
   "outputs": [
    {
     "data": {
      "text/plain": [
       "9.09861228866811"
      ]
     },
     "execution_count": 59,
     "metadata": {},
     "output_type": "execute_result"
    }
   ],
   "source": [
    "# Let's define a function to cube a number and add the log of the other\n",
    "def my_function(x,y):\n",
    "    z = x**3 + np.log(y) # Variables created inside a function are not created globally\n",
    "    return z\n",
    "\n",
    "# Let's use the function\n",
    "my_function(x = 2, y = 3)"
   ]
  },
  {
   "cell_type": "code",
   "execution_count": 60,
   "metadata": {},
   "outputs": [],
   "source": [
    "# Inputs to a function are called arguments. In the previous function, x and y are called arguments.\n",
    "# Arguments can be named anything and we can set some arguments to a default value\n",
    "def my_sloppy_function(junaid, fatima, power = 3):\n",
    "    z = junaid**power + np.log(fatima)\n",
    "    return z\n",
    "\n"
   ]
  },
  {
   "cell_type": "code",
   "execution_count": 61,
   "metadata": {},
   "outputs": [
    {
     "data": {
      "text/plain": [
       "9.09861228866811"
      ]
     },
     "execution_count": 61,
     "metadata": {},
     "output_type": "execute_result"
    }
   ],
   "source": [
    "# The function gives the same result\n",
    "my_sloppy_function(junaid = 2, fatima = 3) # In this function, we assume the default value"
   ]
  },
  {
   "cell_type": "code",
   "execution_count": 62,
   "metadata": {},
   "outputs": [
    {
     "data": {
      "text/plain": [
       "5.09861228866811"
      ]
     },
     "execution_count": 62,
     "metadata": {},
     "output_type": "execute_result"
    }
   ],
   "source": [
    "# We can change the default argument value too\n",
    "my_sloppy_function(junaid = 2, fatima = 3, power = 2)"
   ]
  },
  {
   "cell_type": "code",
   "execution_count": 63,
   "metadata": {},
   "outputs": [],
   "source": [
    "# We can stick anything inside a function and return it\n",
    "# Let's make a function to check if an input star sign is Junaid's star sign\n",
    "def is_junaid_starsign(starsign):\n",
    "    \n",
    "    # Change the input to all lowercase\n",
    "    lc_starsign = starsign.lower()\n",
    "    \n",
    "    # Use an if else statement to check if it's my starsign\n",
    "    if lc_starsign == 'leo':\n",
    "        z = \"This is Junaid\\'s starsign yay\"\n",
    "    else:\n",
    "        z = \"This is not Junaid\\'s starsign - don't you know astrology is haram!\"\n",
    "        \n",
    "    return z\n",
    "    "
   ]
  },
  {
   "cell_type": "code",
   "execution_count": 66,
   "metadata": {},
   "outputs": [
    {
     "data": {
      "text/plain": [
       "\"This is not Junaid's starsign - don't you know astrology is haram!\""
      ]
     },
     "execution_count": 66,
     "metadata": {},
     "output_type": "execute_result"
    }
   ],
   "source": [
    "# Test the function\n",
    "is_junaid_starsign('Virgil')"
   ]
  },
  {
   "cell_type": "code",
   "execution_count": 72,
   "metadata": {},
   "outputs": [
    {
     "data": {
      "text/plain": [
       "('Islamabad', 'Paris', 'Dubai', 'Moscow', 'Madinah', 'Addis Abbaba')"
      ]
     },
     "execution_count": 72,
     "metadata": {},
     "output_type": "execute_result"
    }
   ],
   "source": [
    "# A function can return multiple values\n",
    "# Write a function to return capital cities\n",
    "\n",
    "capitals = ['London', 'Paris', 'Dubai', 'Moscow', 'Madinah', 'Addis Abbaba']\n",
    "\n",
    "def give_me_cities(x = 'London', y = 'Paris', z = 'Dubai'):\n",
    "    \n",
    "    e = 'Moscow'; f = 'Madinah'; g = 'Addis Abbaba'\n",
    "    \n",
    "    return x,y,z,e,f,g\n",
    "\n",
    "give_me_cities(x = 'Islamabad', y = 'Paris', z = 'Dubai')"
   ]
  },
  {
   "cell_type": "code",
   "execution_count": 73,
   "metadata": {},
   "outputs": [
    {
     "data": {
      "text/plain": [
       "('London', 'Paris', 'Dubai', 'Moscow', 'Madinah', 'Addis Abbaba')"
      ]
     },
     "execution_count": 73,
     "metadata": {},
     "output_type": "execute_result"
    }
   ],
   "source": [
    "# We can save a function's results to a variable\n",
    "capital_tup = give_me_cities(x = 'London', y = 'Paris', z = 'Dubai')\n",
    "capital_tup"
   ]
  },
  {
   "cell_type": "code",
   "execution_count": 75,
   "metadata": {},
   "outputs": [
    {
     "name": "stdout",
     "output_type": "stream",
     "text": [
      "['A', 'p', 'p', 'l', 'e']\n",
      "['O', 'r', 'a', 'n', 'g', 'e']\n",
      "Thank you for attending\n"
     ]
    }
   ],
   "source": [
    "# We can save the multiple returned values to multiple output objects\n",
    "# We can even make functions with no arguments\n",
    "def useless_function():\n",
    "    x = list(\"Apple\")\n",
    "    y = list(\"Orange\")\n",
    "    z = 'Thank you for attending'\n",
    "    \n",
    "    return x, y, z\n",
    "\n",
    "foo, bar, baz = useless_function()"
   ]
  },
  {
   "cell_type": "code",
   "execution_count": 76,
   "metadata": {},
   "outputs": [
    {
     "name": "stdout",
     "output_type": "stream",
     "text": [
      "['A', 'p', 'p', 'l', 'e']\n",
      "['O', 'r', 'a', 'n', 'g', 'e']\n",
      "Thank you for attending\n"
     ]
    }
   ],
   "source": [
    "print(foo)\n",
    "print(bar)\n",
    "print(baz)"
   ]
  },
  {
   "cell_type": "markdown",
   "metadata": {},
   "source": [
    "# Asking for help\n",
    "\n",
    "* Very often there will be built in functions about which you don't know. We can use the help() function with the function name as the argument to check the Python documentation.\n",
    "\n",
    "* Failing that, it's legitimate to check the internet (stackoverflow)"
   ]
  },
  {
   "cell_type": "code",
   "execution_count": 77,
   "metadata": {},
   "outputs": [
    {
     "name": "stdout",
     "output_type": "stream",
     "text": [
      "Help on built-in function poisson:\n",
      "\n",
      "poisson(...) method of numpy.random.mtrand.RandomState instance\n",
      "    poisson(lam=1.0, size=None)\n",
      "    \n",
      "    Draw samples from a Poisson distribution.\n",
      "    \n",
      "    The Poisson distribution is the limit of the binomial distribution\n",
      "    for large N.\n",
      "    \n",
      "    .. note::\n",
      "        New code should use the ``poisson`` method of a ``default_rng()``\n",
      "        instance instead; please see the :ref:`random-quick-start`.\n",
      "    \n",
      "    Parameters\n",
      "    ----------\n",
      "    lam : float or array_like of floats\n",
      "        Expected number of events occurring in a fixed-time interval,\n",
      "        must be >= 0. A sequence must be broadcastable over the requested\n",
      "        size.\n",
      "    size : int or tuple of ints, optional\n",
      "        Output shape.  If the given shape is, e.g., ``(m, n, k)``, then\n",
      "        ``m * n * k`` samples are drawn.  If size is ``None`` (default),\n",
      "        a single value is returned if ``lam`` is a scalar. Otherwise,\n",
      "        ``np.array(lam).size`` samples are drawn.\n",
      "    \n",
      "    Returns\n",
      "    -------\n",
      "    out : ndarray or scalar\n",
      "        Drawn samples from the parameterized Poisson distribution.\n",
      "    \n",
      "    See Also\n",
      "    --------\n",
      "    Generator.poisson: which should be used for new code.\n",
      "    \n",
      "    Notes\n",
      "    -----\n",
      "    The Poisson distribution\n",
      "    \n",
      "    .. math:: f(k; \\lambda)=\\frac{\\lambda^k e^{-\\lambda}}{k!}\n",
      "    \n",
      "    For events with an expected separation :math:`\\lambda` the Poisson\n",
      "    distribution :math:`f(k; \\lambda)` describes the probability of\n",
      "    :math:`k` events occurring within the observed\n",
      "    interval :math:`\\lambda`.\n",
      "    \n",
      "    Because the output is limited to the range of the C int64 type, a\n",
      "    ValueError is raised when `lam` is within 10 sigma of the maximum\n",
      "    representable value.\n",
      "    \n",
      "    References\n",
      "    ----------\n",
      "    .. [1] Weisstein, Eric W. \"Poisson Distribution.\"\n",
      "           From MathWorld--A Wolfram Web Resource.\n",
      "           http://mathworld.wolfram.com/PoissonDistribution.html\n",
      "    .. [2] Wikipedia, \"Poisson distribution\",\n",
      "           https://en.wikipedia.org/wiki/Poisson_distribution\n",
      "    \n",
      "    Examples\n",
      "    --------\n",
      "    Draw samples from the distribution:\n",
      "    \n",
      "    >>> import numpy as np\n",
      "    >>> s = np.random.poisson(5, 10000)\n",
      "    \n",
      "    Display histogram of the sample:\n",
      "    \n",
      "    >>> import matplotlib.pyplot as plt\n",
      "    >>> count, bins, ignored = plt.hist(s, 14, density=True)\n",
      "    >>> plt.show()\n",
      "    \n",
      "    Draw each 100 values for lambda 100 and 500:\n",
      "    \n",
      "    >>> s = np.random.poisson(lam=(100., 500.), size=(100, 2))\n",
      "\n"
     ]
    }
   ],
   "source": [
    "# Using the help function gives access to Python documentation\n",
    "help(np.random.poisson)"
   ]
  },
  {
   "cell_type": "code",
   "execution_count": 78,
   "metadata": {},
   "outputs": [
    {
     "data": {
      "text/plain": [
       "array([ 7, 16, 14])"
      ]
     },
     "execution_count": 78,
     "metadata": {},
     "output_type": "execute_result"
    }
   ],
   "source": [
    "np.random.poisson(lam = 10, size = 3)"
   ]
  },
  {
   "cell_type": "code",
   "execution_count": null,
   "metadata": {},
   "outputs": [],
   "source": []
  }
 ],
 "metadata": {
  "kernelspec": {
   "display_name": "Python 3",
   "language": "python",
   "name": "python3"
  },
  "language_info": {
   "codemirror_mode": {
    "name": "ipython",
    "version": 3
   },
   "file_extension": ".py",
   "mimetype": "text/x-python",
   "name": "python",
   "nbconvert_exporter": "python",
   "pygments_lexer": "ipython3",
   "version": "3.10.2"
  }
 },
 "nbformat": 4,
 "nbformat_minor": 4
}
